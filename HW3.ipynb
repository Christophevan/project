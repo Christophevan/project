{
 "metadata": {
  "name": ""
 },
 "nbformat": 3,
 "nbformat_minor": 0,
 "worksheets": [
  {
   "cells": [
    {
     "cell_type": "markdown",
     "metadata": {},
     "source": [
      "# Homework 3. Bayesian Tomatoes"
     ]
    },
    {
     "cell_type": "markdown",
     "metadata": {},
     "source": [
      "Due Thursday, October 17, 11:59pm"
     ]
    },
    {
     "cell_type": "markdown",
     "metadata": {},
     "source": [
      "<div class=\"banner-container\">\n",
      "<img src=\"http://content7.flixster.com/movie/11/16/81/11168101_det.jpg\" width=180>\n",
      "</div>\n",
      "\n",
      "<div class=\"banner-container\">\n",
      "<img src=\"http://content6.flixster.com/movie/11/15/15/11151508_det.jpg\" width=180>\n",
      "</div>\n",
      "\n",
      "<div class=\"banner-container\">\n",
      "<img src=\"http://content9.flixster.com/movie/11/16/61/11166199_det.jpg\" width=180>\n",
      "</div>\n",
      "\n",
      "<div class=\"clear\"> </div>\n",
      "\n",
      "<style type=\"text/css\">\n",
      ".banner-container {\n",
      "height:350px;\n",
      "margin-left: 30px;\n",
      "float:left;\n",
      "}\n",
      ".clear {\n",
      "clear:both;\n",
      "}\n",
      "</style>"
     ]
    },
    {
     "cell_type": "markdown",
     "metadata": {},
     "source": [
      "In this assignment, you'll be analyzing movie reviews from [Rotten Tomatoes](http://www.rottentomatoes.com). This assignment will cover:\n",
      "\n",
      " * Working with web APIs\n",
      " * Making and interpreting predictions from a Bayesian perspective\n",
      " * Using the Naive Bayes algorithm to predict whether a movie review is positive or negative\n",
      " * Using cross validation to optimize models\n",
      "\n",
      "Useful libraries for this assignment\n",
      "\n",
      "* [numpy](http://docs.scipy.org/doc/numpy-dev/user/index.html), for arrays\n",
      "* [scikit-learn](http://scikit-learn.org/stable/), for machine learning\n",
      "* [json](http://docs.python.org/2/library/json.html) for parsing JSON data from the web.\n",
      "* [pandas](http://pandas.pydata.org/), for data frames\n",
      "* [matplotlib](http://matplotlib.org/), for plotting\n",
      "* [requests](http://docs.python-requests.org/en/latest/), for downloading web content"
     ]
    },
    {
     "cell_type": "code",
     "collapsed": false,
     "input": [
      "%matplotlib inline\n",
      "\n",
      "import json\n",
      "\n",
      "import requests\n",
      "import pandas as pd\n",
      "import numpy as np\n",
      "import matplotlib.pyplot as plt\n",
      "\n",
      "pd.set_option('display.width', 500)\n",
      "pd.set_option('display.max_columns', 30)\n",
      "\n",
      "# set some nicer defaults for matplotlib\n",
      "from matplotlib import rcParams\n",
      "\n",
      "#these colors come from colorbrewer2.org. Each is an RGB triplet\n",
      "dark2_colors = [(0.10588235294117647, 0.6196078431372549, 0.4666666666666667),\n",
      "                (0.8509803921568627, 0.37254901960784315, 0.00784313725490196),\n",
      "                (0.4588235294117647, 0.4392156862745098, 0.7019607843137254),\n",
      "                (0.9058823529411765, 0.1607843137254902, 0.5411764705882353),\n",
      "                (0.4, 0.6509803921568628, 0.11764705882352941),\n",
      "                (0.9019607843137255, 0.6705882352941176, 0.00784313725490196),\n",
      "                (0.6509803921568628, 0.4627450980392157, 0.11372549019607843),\n",
      "                (0.4, 0.4, 0.4)]\n",
      "\n",
      "rcParams['figure.figsize'] = (10, 6)\n",
      "rcParams['figure.dpi'] = 150\n",
      "rcParams['axes.color_cycle'] = dark2_colors\n",
      "rcParams['lines.linewidth'] = 2\n",
      "rcParams['axes.grid'] = False\n",
      "rcParams['axes.facecolor'] = 'white'\n",
      "rcParams['font.size'] = 14\n",
      "rcParams['patch.edgecolor'] = 'none'\n",
      "\n",
      "\n",
      "def remove_border(axes=None, top=False, right=False, left=True, bottom=True):\n",
      "    \"\"\"\n",
      "    Minimize chartjunk by stripping out unnecessary plot borders and axis ticks\n",
      "    \n",
      "    The top/right/left/bottom keywords toggle whether the corresponding plot border is drawn\n",
      "    \"\"\"\n",
      "    ax = axes or plt.gca()\n",
      "    ax.spines['top'].set_visible(top)\n",
      "    ax.spines['right'].set_visible(right)\n",
      "    ax.spines['left'].set_visible(left)\n",
      "    ax.spines['bottom'].set_visible(bottom)\n",
      "    \n",
      "    #turn off all ticks\n",
      "    ax.yaxis.set_ticks_position('none')\n",
      "    ax.xaxis.set_ticks_position('none')\n",
      "    \n",
      "    #now re-enable visibles\n",
      "    if top:\n",
      "        ax.xaxis.tick_top()\n",
      "    if bottom:\n",
      "        ax.xaxis.tick_bottom()\n",
      "    if left:\n",
      "        ax.yaxis.tick_left()\n",
      "    if right:\n",
      "        ax.yaxis.tick_right()"
     ],
     "language": "python",
     "metadata": {},
     "outputs": [],
     "prompt_number": 1
    },
    {
     "cell_type": "markdown",
     "metadata": {},
     "source": [
      "## Introduction\n",
      "\n",
      "Rotten Tomatoes gathers movie reviews from critics. An [entry on the website](http://www.rottentomatoes.com/m/primer/reviews/?type=top_critics) typically consists of a short quote, a link to the full review, and a Fresh/Rotten classification which summarizes whether the critic liked/disliked the movie.\n",
      "\n",
      "\n",
      "When critics give quantitative ratings (say 3/4 stars, Thumbs up, etc.), determining the Fresh/Rotten classification is easy. However, publications like the New York Times don't assign numerical ratings to movies, and thus the Fresh/Rotten classification must be inferred from the text of the review itself.\n",
      "\n",
      "This basic task of categorizing text has many applications. All of the following questions boil down to text classification:\n",
      "\n",
      " * Is a movie review positive or negative?\n",
      " * Is an email spam, or not?\n",
      " * Is a comment on a blog discussion board appropriate, or not?\n",
      " * Is a tweet about your company positive, or not?\n",
      " \n",
      "\n",
      "Language is incredibly nuanced, and there is an entire field of computer science dedicated to the topic (Natural Language Processing). Nevertheless, we can construct basic language models using fairly straightforward techniques. \n",
      "\n",
      "## The Data\n",
      "\n",
      "You will be starting with a database of Movies, derived from the MovieLens dataset. This dataset includes information for about 10,000 movies, including the IMDB id for each movie. \n",
      "\n",
      "Your first task is to download Rotten Tomatoes reviews from 3000 of these movies, using the Rotten Tomatoes API (Application Programming Interface)."
     ]
    },
    {
     "cell_type": "markdown",
     "metadata": {},
     "source": [
      "### Working with Web APIs\n",
      "Web APIs are a more convenient way for programs to interact with websites. Rotten Tomatoes has a nice API that gives access to its data in JSON format.\n",
      "\n",
      "To use this, you will first need to [register for an API key](http://developer.rottentomatoes.com/member/register). For \"application URL\", you can use anything -- it doesn't matter.\n",
      "\n",
      "After you have a key, the [documentation page](http://developer.rottentomatoes.com/iodocs) shows the various data you can fetch from Rotten Tomatoes -- each type of data lives at a different web address. The basic pattern for fetching this data with Python is as follows (compare this to the `Movie Reviews` tab on the documentation page):"
     ]
    },
    {
     "cell_type": "code",
     "collapsed": false,
     "input": [
      "# BACKUP API_KEY = drzwr3tnq3bya52ua64s99r4\n",
      "api_key = 'k8wsumkp3gmqs8tan48b6anr'\n",
      "movie_id = '770672122'  # toy story 3\n",
      "url = 'http://api.rottentomatoes.com/api/public/v1.0/movies/%s/reviews.json' % movie_id\n",
      "\n",
      "#these are \"get parameters\"\n",
      "options = {'review_type': 'top_critic', 'page_limit': 20, 'page': 1, 'apikey': api_key}\n",
      "data = requests.get(url, params=options).text\n",
      "data = json.loads(data)  # load a json string into a collection of lists and dicts\n",
      "\n",
      "print json.dumps(data['reviews'][0], indent=2)  # dump an object into a json string"
     ],
     "language": "python",
     "metadata": {},
     "outputs": [
      {
       "output_type": "stream",
       "stream": "stdout",
       "text": [
        "{\n",
        "  \"publication\": \"Village Voice\", \n",
        "  \"links\": {\n",
        "    \"review\": \"http://www.villagevoice.com/2010-06-15/film/toys-are-us-in-toy-story-3/full/\"\n",
        "  }, \n",
        "  \"quote\": \"When teenaged Andy plops down on the grass to share his old toys with a shy little girl, the film spikes with sadness and layered pleasure -- a concise, deeply wise expression of the ephemeral that feels real and yet utterly transporting.\", \n",
        "  \"freshness\": \"fresh\", \n",
        "  \"critic\": \"Eric Hynes\", \n",
        "  \"date\": \"2013-08-04\"\n",
        "}\n"
       ]
      }
     ],
     "prompt_number": 2
    },
    {
     "cell_type": "markdown",
     "metadata": {},
     "source": [
      "## Part 1: Get the data\n",
      "Here's a chunk of the MovieLens Dataset:"
     ]
    },
    {
     "cell_type": "code",
     "collapsed": false,
     "input": [
      "from io import StringIO  \n",
      "movie_txt = requests.get('https://raw.github.com/cs109/cs109_data/master/movies.dat').text\n",
      "movie_file = StringIO(movie_txt) # treat a string like a file\n",
      "movies = pd.read_csv(movie_file, delimiter='\\t')\n",
      "\n",
      "#print the first row\n",
      "movies[['id', 'title', 'imdbID', 'year']].irow(0)"
     ],
     "language": "python",
     "metadata": {},
     "outputs": [
      {
       "metadata": {},
       "output_type": "pyout",
       "prompt_number": 3,
       "text": [
        "id                1\n",
        "title     Toy story\n",
        "imdbID       114709\n",
        "year           1995\n",
        "Name: 0, dtype: object"
       ]
      }
     ],
     "prompt_number": 3
    },
    {
     "cell_type": "markdown",
     "metadata": {},
     "source": [
      "#### P1.1\n",
      "\n",
      "We'd like you to write a function that looks up the first 20 Top Critic Rotten Tomatoes reviews for a movie in the `movies` dataframe. This involves two steps:\n",
      "\n",
      "1. Use the `Movie Alias` API to look up the Rotten Tomatoes movie id from the IMDB id\n",
      "1. Use the `Movie Reviews` API to fetch the first 20 top-critic reviews for this movie\n",
      "\n",
      "Not all movies have Rotten Tomatoes IDs. In these cases, your function should return `None`. The detailed spec is below. We are giving you some freedom with how you implement this, but you'll probably want to break this task up into several small functions.\n",
      "\n",
      "**Hint**\n",
      "In some situations, the leading 0s in front of IMDB ids are important. IMDB ids have 7 digits"
     ]
    },
    {
     "cell_type": "code",
     "collapsed": true,
     "input": [
      "\"\"\"\n",
      "Function\n",
      "--------\n",
      "fetch_reviews(movies, row)\n",
      "\n",
      "Use the Rotten Tomatoes web API to fetch reviews for a particular movie\n",
      "\n",
      "Parameters\n",
      "----------\n",
      "movies : DataFrame \n",
      "  The movies data above\n",
      "row : int\n",
      "  The row of the movies DataFrame to use\n",
      "  \n",
      "Returns\n",
      "-------\n",
      "If you can match the IMDB id to a Rotten Tomatoes ID:\n",
      "  A DataFrame, containing the first 20 Top Critic reviews \n",
      "  for the movie. If a movie has less than 20 total reviews, return them all.\n",
      "  This should have the following columns:\n",
      "    critic : Name of the critic\n",
      "    fresh  : 'fresh' or 'rotten'\n",
      "    imdb   : IMDB id for the movie\n",
      "    publication: Publication that the critic writes for\n",
      "    quote  : string containing the movie review quote\n",
      "    review_data: Date of review\n",
      "    rtid   : Rotten Tomatoes ID for the movie\n",
      "    title  : Name of the movie\n",
      "    \n",
      "If you cannot match the IMDB id to a Rotten Tomatoes ID, return None\n",
      "\n",
      "Examples\n",
      "--------\n",
      ">>> reviews = fetch_reviews(movies, 0)\n",
      ">>> print len(reviews)\n",
      "20\n",
      ">>> print reviews.irow(1)\n",
      "critic                                               Derek Adams\n",
      "fresh                                                      fresh\n",
      "imdb                                                      114709\n",
      "publication                                             Time Out\n",
      "quote          So ingenious in concept, design and execution ...\n",
      "review_date                                           2009-10-04\n",
      "rtid                                                        9559\n",
      "title                                                  Toy story\n",
      "Name: 1, dtype: object\n",
      "\"\"\"\n",
      "\n",
      "def fetch_reviews(movies, row):\n",
      "    \n",
      "    #set API key\n",
      "    #Backup key: drzwr3tnq3bya52ua64s99r4'\n",
      "    api_key = 'k8wsumkp3gmqs8tan48b6anr'\n",
      "    \n",
      "    #get movie's imdb ID\n",
      "    imdb_int = movies['imdbID'].irow(row)\n",
      "    \n",
      "    #convert to string and pad with 0s to length 7\n",
      "    imdb = str(imdb_int).zfill(7)\n",
      "    \n",
      "    #construct url\n",
      "    url = 'http://api.rottentomatoes.com/api/public/v1.0/movie_alias.json?type=imdb&id=' + imdb\n",
      "\n",
      "    #try to get the data\n",
      "    options = {'review_type': 'top_critic', 'page_limit': 20, 'page': 1, 'apikey': api_key}\n",
      "    data = requests.get(url, params=options).text\n",
      "    \n",
      "    #load a json string into a collection of lists and dicts\n",
      "    data = json.loads(data) \n",
      "        \n",
      "    #return 'None' on failure\n",
      "    if data.has_key(\"error\"):\n",
      "        return None\n",
      "    \n",
      "    #get rotten tomatoe url, movie title, and rotten tomatoe id\n",
      "    url = data['links']['reviews']\n",
      "    title = data['title']\n",
      "    rtid = data['id']\n",
      "    \n",
      "    #load 20 reviews\n",
      "    data = requests.get(url, params=options).text\n",
      "    data = json.loads(data)       \n",
      "    \n",
      "    #create DataFrame\n",
      "    try:\n",
      "        reviews = pd.DataFrame(data['reviews'])\n",
      "    except KeyError:\n",
      "        return None\n",
      "    \n",
      "    #Build in robustness against recieving no data from RT\n",
      "    if len(reviews) == 0:\n",
      "        return None\n",
      "    \n",
      "    \n",
      "    #drop unwanted columns\n",
      "    try:\n",
      "        reviews = reviews[['critic', 'date', 'freshness', 'publication', 'quote']]\n",
      "    except KeyError:\n",
      "        return None\n",
      "        \n",
      "    #add desired ID informaiton\n",
      "    reviews['rtid'] = [rtid for i in range(len(data['reviews']))]\n",
      "    reviews['title'] = [title for i in range(len(data['reviews']))]\n",
      "    reviews['imdb'] = [imdb for i in range(len(data['reviews']))]\n",
      "    \n",
      "    reviews.columns = ['critic', 'fresh', 'imdb', 'publication', 'quote', 'review_date', 'rtid', 'title']\n",
      "    \n",
      "    return reviews\n",
      "    \n"
     ],
     "language": "python",
     "metadata": {},
     "outputs": [],
     "prompt_number": 4
    },
    {
     "cell_type": "markdown",
     "metadata": {},
     "source": [
      "#### P1.2\n",
      "\n",
      "Use the function you wrote to retrieve reviews for the first 3,000 movies in the movies dataframe.\n",
      "\n",
      "##### Hints\n",
      "* Rotten Tomatoes limits you to **10,000 API requests a day**. Be careful about this limit! Test your code on smaller inputs before scaling. You are responsible if you hit the limit the day the assignment is due :)\n",
      "* This will take a while to download. If you don't want to re-run this function every time you restart the notebook, you can save and re-load this data as a CSV file. However, please don't submit this file"
     ]
    },
    {
     "cell_type": "code",
     "collapsed": false,
     "input": [
      "\"\"\"\n",
      "Function\n",
      "--------\n",
      "build_table\n",
      "\n",
      "Parameters\n",
      "----------\n",
      "movies : DataFrame\n",
      "  The movies data above\n",
      "rows : int\n",
      "  The number of rows to extract reviews for\n",
      "  \n",
      "Returns\n",
      "--------\n",
      "A dataframe\n",
      "  The data obtained by repeatedly calling `fetch_reviews` on the first `rows`\n",
      "  of `movies`, discarding the `None`s,\n",
      "  and concatenating the results into a single DataFrame\n",
      "\"\"\"\n",
      "def build_table(movies, rows):\n",
      "    #initialize DataFrame\n",
      "    table = pd.DataFrame()\n",
      "    \n",
      "    #Interate over requested range\n",
      "    for row in range(rows):\n",
      "        \n",
      "        #get reviews\n",
      "        reviews = fetch_reviews(movies, row)\n",
      "        \n",
      "        #skip over those that are None\n",
      "        if reviews is not None:\n",
      "            table = table.append(reviews)\n",
      "        \n",
      "    return table\n",
      "        \n"
     ],
     "language": "python",
     "metadata": {},
     "outputs": [],
     "prompt_number": 5
    },
    {
     "cell_type": "code",
     "collapsed": false,
     "input": [
      "#you can toggle which lines are commented, if you\n",
      "#want to re-load your results to avoid repeatedly calling this function\n",
      "\n",
      "#critics = build_table(movies, 3000)\n",
      "#critics.to_csv('critics.csv', index=False)\n",
      "critics = pd.read_csv('critics.csv')\n",
      "\n",
      "\n",
      "#for this assignment, let's drop rows with missing data\n",
      "critics = critics[~critics.quote.isnull()]\n",
      "critics = critics[critics.fresh != 'none']\n",
      "critics = critics[critics.quote.str.len() > 0]"
     ],
     "language": "python",
     "metadata": {},
     "outputs": [],
     "prompt_number": 6
    },
    {
     "cell_type": "markdown",
     "metadata": {},
     "source": [
      "A quick sanity check that everything looks ok at this point"
     ]
    },
    {
     "cell_type": "code",
     "collapsed": false,
     "input": [
      "assert set(critics.columns) == set('critic fresh imdb publication '\n",
      "                                   'quote review_date rtid title'.split())\n",
      "assert len(critics) > 10000"
     ],
     "language": "python",
     "metadata": {},
     "outputs": [],
     "prompt_number": 7
    },
    {
     "cell_type": "markdown",
     "metadata": {},
     "source": [
      "## Part 2: Explore\n",
      "\n",
      "Before delving into analysis, get a sense of what these data look like. Answer the following questions. Include your code!"
     ]
    },
    {
     "cell_type": "markdown",
     "metadata": {},
     "source": [
      "**2.1** How many reviews, critics, and movies are in this dataset?\n"
     ]
    },
    {
     "cell_type": "code",
     "collapsed": false,
     "input": [
      "print 'There are ' + str(len(critics['quote'].drop_duplicates())) + ' reviews.'\n",
      "print 'There are ' + str(len(critics['critic'].drop_duplicates())) + ' critics.'\n",
      "print 'There are ' + str(len(critics['title'].drop_duplicates())) + ' movies.'"
     ],
     "language": "python",
     "metadata": {},
     "outputs": [
      {
       "output_type": "stream",
       "stream": "stdout",
       "text": [
        "There are 15569 reviews.\n",
        "There are 622 critics.\n",
        "There are 1928 movies.\n"
       ]
      }
     ],
     "prompt_number": 8
    },
    {
     "cell_type": "markdown",
     "metadata": {},
     "source": [
      "**2.2** What does the distribution of number of reviews per reviewer look like? Make a histogram"
     ]
    },
    {
     "cell_type": "code",
     "collapsed": false,
     "input": [
      "numRevs = dict()\n",
      "\n",
      "#get list of unique authors\n",
      "no_dupe = critics['critic'].drop_duplicates()\n",
      "\n",
      "#get each author's number of reviews\n",
      "for critic in no_dupe:\n",
      "    numRevs[critic] = len(critics[critics['critic'] == critic])\n",
      "\n",
      "#plot histogram\n",
      "plt.hist(numRevs.values(), bins= 20, log=True)\n",
      "\n",
      "#add labels\n",
      "plt.xlabel('# of Authors')\n",
      "plt.ylabel('# of Reviews')\n",
      "plt.title('# Reviews per Author')\n",
      "remove_border()"
     ],
     "language": "python",
     "metadata": {},
     "outputs": [
      {
       "metadata": {},
       "output_type": "display_data",
       "png": "[encoded data removed]",
       "text": [
        "<matplotlib.figure.Figure at 0x10c4f4810>"
       ]
      }
     ],
     "prompt_number": 9
    },
    {
     "cell_type": "markdown",
     "metadata": {},
     "source": [
      "**2.3** List the 5 critics with the most reviews, along with the publication they write for"
     ]
    },
    {
     "cell_type": "code",
     "collapsed": false,
     "input": [
      "import operator\n",
      "\n",
      "#get top 5 authors by number of reviews\n",
      "sorted_max= sorted(numRevs.iteritems(), key=operator.itemgetter(1))\n",
      "top5 = sorted_max[len(sorted_max)-5:]\n",
      "top5_a = map(list, zip(*top5))[0]\n",
      "\n",
      "#print data nicely\n",
      "print 'The authors with the most reviews and they publication they write for are listed below:\\n'\n",
      "for auth in top5_a:\n",
      "    print auth.ljust(20) + ' for ' + (critics[critics['critic'] == auth]['publication'].irow(0)).rjust(20)\n",
      "\n"
     ],
     "language": "python",
     "metadata": {},
     "outputs": [
      {
       "output_type": "stream",
       "stream": "stdout",
       "text": [
        "The authors with the most reviews and they publication they write for are listed below:\n",
        "\n",
        "Jonathan Rosenbaum   for       Chicago Reader\n",
        "Variety Staff        for              Variety\n",
        "Janet Maslin         for       New York Times\n",
        "James Berardinelli   for            ReelViews\n",
        "Roger Ebert          for    Chicago Sun-Times\n"
       ]
      }
     ],
     "prompt_number": 10
    },
    {
     "cell_type": "markdown",
     "metadata": {},
     "source": [
      "**2.4** Of the critics with > 100 reviews, plot the distribution of average \"freshness\" rating per critic"
     ]
    },
    {
     "cell_type": "code",
     "collapsed": false,
     "input": [
      "#Get list of authors with more than 100 reviews\n",
      "over_100 = [auth for auth, num in numRevs.items() if num > 100]\n",
      "\n",
      "#initialize list\n",
      "fresh_hist = []\n",
      "\n",
      "#Calcu fresh percentage\n",
      "for auth in over_100:\n",
      "    fresh = (critics[critics['critic'] == auth]['fresh'].values == 'fresh')\n",
      "    frac = float(sum(fresh))/len(fresh)\n",
      "    fresh_hist.append(frac)\n",
      "    \n",
      "#Plot histogram\n",
      "plt.hist(fresh_hist, bins = 15)\n",
      "\n",
      "#Add labels\n",
      "plt.title('Frequenct of Average Freshness')\n",
      "plt.ylabel('# of reviews')\n",
      "plt.xlabel('# of Authors')\n",
      "remove_border()"
     ],
     "language": "python",
     "metadata": {},
     "outputs": [
      {
       "metadata": {},
       "output_type": "display_data",
       "png": "[encoded data removed]",
       "text": [
        "<matplotlib.figure.Figure at 0x10c441850>"
       ]
      }
     ],
     "prompt_number": 11
    },
    {
     "cell_type": "markdown",
     "metadata": {},
     "source": [
      "**2.5**\n",
      "Using the original `movies` dataframe, plot the rotten tomatoes Top Critics Rating as a function of year. Overplot the average for each year, ignoring the score=0 examples (some of these are missing data). Comment on the result -- is there a trend? What do you think it means?"
     ]
    },
    {
     "cell_type": "code",
     "collapsed": false,
     "input": [
      "#group movies by year\n",
      "groups = pd.groupby(movies, 'year')\n",
      "\n",
      "#initialize items\n",
      "years = []\n",
      "ratings = []\n",
      "avg_yrs = []\n",
      "avg_rat = []\n",
      "\n",
      "#iterate over groups\n",
      "for group in groups:\n",
      "    yr = group[0]\n",
      "    \n",
      "    #store rating data\n",
      "    for rating in group[1]['rtTopCriticsRating']:\n",
      "        #skip erroneous or malformed data\n",
      "        try:\n",
      "            if 0. != float(rating):\n",
      "                ratings = np.append(ratings, float(rating))\n",
      "                years = np.append(years, yr)                \n",
      "        except:\n",
      "            continue  \n",
      "\n",
      "#calculate and store averages\n",
      "for yr in set(years):\n",
      "    avg_yrs = np.append(avg_yrs, yr)\n",
      "    avg_rat = np.append(avg_rat, ratings[years == yr].mean())\n",
      "\n",
      "\n",
      "#scatter ratings\n",
      "plt.scatter(years, ratings)\n",
      "\n",
      "#plot average rating\n",
      "plt.plot(avg_yrs, avg_rat, 'r')\n",
      "\n",
      "#label plot\n",
      "plt.xlabel('Year')\n",
      "plt.ylabel('Top Critics Rating')\n",
      "plt.title('Top Critics Rating by Year')\n",
      "plt.legend(['Year Avg. Rating','Top Critic Rating'],loc = 2)\n",
      "remove_border()"
     ],
     "language": "python",
     "metadata": {},
     "outputs": [
      {
       "metadata": {},
       "output_type": "display_data",
       "png": "[encoded data removed]",
       "text": [
        "<matplotlib.figure.Figure at 0x10b001b50>"
       ]
      }
     ],
     "prompt_number": 171
    },
    {
     "cell_type": "markdown",
     "metadata": {},
     "source": [
      "As seen above, as time progressed, the range of reviews scores has increase and the average rating dropped. I don't think this trend says much about the quality of movies over time. Rather, I believe that this is a result of there being more reviews being published and with more frequency."
     ]
    },
    {
     "cell_type": "markdown",
     "metadata": {},
     "source": [
      "## Part 3: Sentiment Analysis\n",
      "\n",
      "You will now use a [Naive Bayes classifier](https://en.wikipedia.org/wiki/Naive_Bayes_classifier) to build a prediction model for whether a review is fresh or rotten, depending on the text of the review. See Lecture 9 for a discussion of Naive Bayes.\n",
      "\n",
      "Most models work with numerical data, so we need to convert the textual collection of reviews to something numerical. A common strategy for text classification is to represent each review as a \"bag of words\" vector -- a long vector\n",
      "of numbers encoding how many times a particular word appears in a blurb.\n",
      "\n",
      "Scikit-learn has an object called a `CountVectorizer` that turns text into a bag of words. Here's a quick tutorial:"
     ]
    },
    {
     "cell_type": "code",
     "collapsed": false,
     "input": [
      "from sklearn.feature_extraction.text import CountVectorizer\n",
      "\n",
      "text = ['Hop on pop', 'Hop off pop', 'Hop Hop hop']\n",
      "print \"Original text is\\n\", '\\n'.join(text)\n",
      "\n",
      "vectorizer = CountVectorizer(min_df=0)\n",
      "\n",
      "# call `fit` to build the vocabulary\n",
      "vectorizer.fit(text)\n",
      "\n",
      "# call `transform` to convert text to a bag of words\n",
      "x = vectorizer.transform(text)\n",
      "\n",
      "# CountVectorizer uses a sparse array to save memory, but it's easier in this assignment to \n",
      "# convert back to a \"normal\" numpy array\n",
      "x = x.toarray()\n",
      "\n",
      "print\n",
      "print \"Transformed text vector is \\n\", x\n",
      "\n",
      "# `get_feature_names` tracks which word is associated with each column of the transformed x\n",
      "print\n",
      "print \"Words for each feature:\"\n",
      "print vectorizer.get_feature_names()\n",
      "\n",
      "# Notice that the bag of words treatment doesn't preserve information about the *order* of words, \n",
      "# just their frequency"
     ],
     "language": "python",
     "metadata": {},
     "outputs": [
      {
       "output_type": "stream",
       "stream": "stdout",
       "text": [
        "Original text is\n",
        "Hop on pop\n",
        "Hop off pop\n",
        "Hop Hop hop\n",
        "\n",
        "Transformed text vector is \n",
        "[[1 0 1 1]\n",
        " [1 1 0 1]\n",
        " [3 0 0 0]]\n",
        "\n",
        "Words for each feature:\n",
        "[u'hop', u'off', u'on', u'pop']\n"
       ]
      }
     ],
     "prompt_number": 115
    },
    {
     "cell_type": "markdown",
     "metadata": {},
     "source": [
      "**3.1**\n",
      "\n",
      "Using the `critics` dataframe, compute a pair of numerical X, Y arrays where:\n",
      "    \n",
      " * X is a `(nreview, nwords)` array. Each row corresponds to a bag-of-words representation for a single review. This will be the *input* to your model.\n",
      " * Y is a `nreview`-element 1/0 array, encoding whether a review is Fresh (1) or Rotten (0). This is the desired *output* from your model.\n"
     ]
    },
    {
     "cell_type": "code",
     "collapsed": false,
     "input": [
      "#hint: Consult the scikit-learn documentation to\n",
      "#      learn about what these classes do do\n",
      "from sklearn.cross_validation import train_test_split\n",
      "from sklearn.naive_bayes import MultinomialNB\n",
      "\n",
      "\"\"\"\n",
      "Function\n",
      "--------\n",
      "make_xy\n",
      "\n",
      "Build a bag-of-words training set for the review data\n",
      "\n",
      "Parameters\n",
      "-----------\n",
      "critics : Pandas DataFrame\n",
      "    The review data from above\n",
      "    \n",
      "vectorizer : CountVectorizer object (optional)\n",
      "    A CountVectorizer object to use. If None,\n",
      "    then create and fit a new CountVectorizer.\n",
      "    Otherwise, re-fit the provided CountVectorizer\n",
      "    using the critics data\n",
      "    \n",
      "Returns\n",
      "-------\n",
      "X : numpy array (dims: nreview, nwords)\n",
      "    Bag-of-words representation for each review.\n",
      "Y : numpy array (dims: nreview)\n",
      "    1/0 array. 1 = fresh review, 0 = rotten review\n",
      "\n",
      "Examples\n",
      "--------\n",
      "X, Y = make_xy(critics)\n",
      "\"\"\"\n",
      "def make_xy(critics, vectorizer=None):\n",
      "    if vectorizer is None:\n",
      "        vectorizer = CountVectorizer(min_df=0)\n",
      "\n",
      "    # call `fit` to build the vocabulary\n",
      "    vectorizer.fit(critics['quote'])\n",
      "\n",
      "    # call `transform` to convert text to a bag of words\n",
      "    x = vectorizer.transform(critics['quote'])\n",
      "\n",
      "    # CountVectorizer uses a sparse array to save memory, but it's easier in this assignment to \n",
      "    # convert back to a \"normal\" numpy array\n",
      "    x = x.toarray()\n",
      "    y = critics['fresh']\n",
      "    y = np.array((y == 'fresh'))\n",
      "    \n",
      "    return x, y\n",
      "\n"
     ],
     "language": "python",
     "metadata": {},
     "outputs": [],
     "prompt_number": 379
    },
    {
     "cell_type": "code",
     "collapsed": false,
     "input": [
      "X, Y = make_xy(critics)"
     ],
     "language": "python",
     "metadata": {},
     "outputs": [],
     "prompt_number": 380
    },
    {
     "cell_type": "markdown",
     "metadata": {},
     "source": [
      "\n",
      "**3.2** Next, randomly split the data into two groups: a\n",
      "training set and a validation set. \n",
      "\n",
      "Use the training set to train a `MultinomialNB` classifier,\n",
      "and print the accuracy of this model on the validation set\n",
      "\n",
      "**Hint**\n",
      "You can use [`train_test_split`](http://scikit-learn.org/stable/modules/generated/sklearn.cross_validation.train_test_split.html) to split up the training data"
     ]
    },
    {
     "cell_type": "code",
     "collapsed": false,
     "input": [
      "#split data sets\n",
      "x_train, x_test, y_train, y_test = train_test_split(X, Y)\n",
      "\n",
      "#create naive bayes califier for multinomials\n",
      "clf = MultinomialNB()\n",
      "\n",
      "#fit the model with the training data\n",
      "clf.fit(x_train, y_train)\n",
      "\n",
      "#predict outcome\n",
      "prediction = clf.predict(x_test)\n",
      "\n",
      "#compare prediciton to true\n",
      "correct = (prediction == y_test)\n",
      "\n",
      "#calculate pct correct\n",
      "pct_cor = 100. * sum(correct)/float(len(correct))\n",
      "\n",
      "#print results\n",
      "print 'Percent correctly predicted: ' + str(pct_cor)\n"
     ],
     "language": "python",
     "metadata": {},
     "outputs": [
      {
       "output_type": "stream",
       "stream": "stdout",
       "text": [
        "Percent correctly predicted: 77.2330595483\n"
       ]
      }
     ],
     "prompt_number": 381
    },
    {
     "cell_type": "markdown",
     "metadata": {},
     "source": [
      "**3.3:**\n",
      "\n",
      "We say a model is **overfit** if it performs better on the training data than on the test data. Is this model overfit? If so, how much more accurate is the model on the training data compared to the test data?"
     ]
    },
    {
     "cell_type": "code",
     "collapsed": false,
     "input": [
      "#predict on training data\n",
      "ovfit_test = clf.predict(x_train)\n",
      "\n",
      "#get pct correct in training set and difference from correct in test set\n",
      "ovfit_cor = (ovfit_test == y_train)\n",
      "ovfit_pct = 100. * sum(ovfit_cor)/float(len(ovfit_cor))\n",
      "ovfit_diff = ovfit_pct - pct_cor\n",
      "\n",
      "#print resutls\n",
      "print 'The percent of correct prediction in the test set is: '.ljust(60) + str(pct_cor)\n",
      "print 'The percent of correct prediction in the training set is: '.ljust(60) + str(ovfit_pct)\n",
      "print 'The difference between these percentages is :'.ljust(60) + str(ovfit_diff)"
     ],
     "language": "python",
     "metadata": {},
     "outputs": [
      {
       "output_type": "stream",
       "stream": "stdout",
       "text": [
        "The percent of correct prediction in the test set is:       77.2330595483\n",
        "The percent of correct prediction in the training set is:   91.9996577394\n",
        "The difference between these percentages is :               14.7665981911\n"
       ]
      }
     ],
     "prompt_number": 382
    },
    {
     "cell_type": "markdown",
     "metadata": {},
     "source": [
      "The model seems to be overfit. As shown above, the model correctly predicts the freshness 92.00% of the time on the training set but only 77.23% of the time on the test set. This discrepency of over 14% indicates that the model is overfit to the training set as it performs much better on the training set than on the test set. "
     ]
    },
    {
     "cell_type": "markdown",
     "metadata": {},
     "source": [
      "**3.4: Model Calibration**\n",
      "\n",
      "Bayesian models like the Naive Bayes classifier have the nice property that they compute probabilities of a particular classification -- the `predict_proba` and `predict_log_proba` methods of `MultinomialNB` compute these probabilities. \n",
      "\n",
      "Being the respectable Bayesian that you are, you should always assess whether these probabilities are **calibrated** -- that is, whether a prediction made with a confidence of `x%` is correct approximately `x%` of the time. We care about calibration because it tells us whether we can trust the probabilities computed by a model. If we can trust model probabilities, we can make better decisions using them (for example, we can calculate how much we should bet or invest in a given prediction).\n",
      "\n",
      "Let's make a plot to assess model calibration. Schematically, we want something like this:\n",
      "\n",
      "<img src=\"http://i.imgur.com/ea5B6zr.png\" width=500px>\n",
      "\n",
      "In words, we want to:\n",
      "\n",
      "* Take a collection of examples, and compute the freshness probability for each using `clf.predict_proba`\n",
      "* Gather examples into bins of similar freshness probability (the diagram shows 5 groups -- you should use something closer to 20)\n",
      "* For each bin, count the number of examples in that bin, and compute the fraction of examples in the bin which are fresh\n",
      "* In the upper plot, graph the expected P(Fresh) (x axis) and observed freshness fraction (Y axis). Estimate the uncertainty in observed freshness fraction $F$ via the [equation](http://en.wikipedia.org/wiki/Binomial_proportion_confidence_interval) $\\sigma = \\sqrt{F (1-F) / N}$\n",
      "* Overplot the line y=x. This is the trend we would expect if the model is calibrated\n",
      "* In the lower plot, show the number of examples in each bin\n",
      "\n",
      "**Hints**\n",
      "\n",
      "The output of `clf.predict_proba(X)` is a `(N example, 2)` array. The first column gives the probability $P(Y=0)$ or  $P(Rotten)$, and the second gives $P(Y=1)$ or $P(Fresh)$.\n",
      "\n",
      "The above image is just a guideline -- feel free to explore other options!"
     ]
    },
    {
     "cell_type": "code",
     "collapsed": false,
     "input": [
      "\"\"\"\n",
      "Function\n",
      "--------\n",
      "calibration_plot\n",
      "\n",
      "Builds a plot like the one above, from a classifier and review data\n",
      "\n",
      "Inputs\n",
      "-------\n",
      "clf : Classifier object\n",
      "    A MultinomialNB classifier\n",
      "X : (Nexample, Nfeature) array\n",
      "    The bag-of-words data\n",
      "Y : (Nexample) integer array\n",
      "    1 if a review is Fresh\n",
      "\"\"\"    \n",
      "def calibration_plot(clf, X, Y):\n",
      "    #calculate and bin proabilities\n",
      "    probs = clf.predict_proba(X)\n",
      "    binned, edges = np.histogram(probs[:,1], bins=20)\n",
      "    \n",
      "    #loop through each bin\n",
      "    lbound = 0\n",
      "    fracs = []\n",
      "    midpoints = []\n",
      "    yerr = []\n",
      "    for rowi, edge in enumerate(edges[1:]):\n",
      "        #get indexes for contents of each bin\n",
      "        indxs = [i for i, prb in enumerate(probs[:,1]) if (lbound < prb) and (prb < edge)]\n",
      "        \n",
      "        #calc and store fraction & err of bin that was actually fresh\n",
      "        frac = float(sum(Y[indxs]))/float(binned[rowi])\n",
      "        fracs.append(frac)\n",
      "        yerr.append(pow((frac*(1-frac)/binned[rowi]),0.5))\n",
      "                 \n",
      "        #collect midpoints for plotting\n",
      "        midpoints.append((edge+lbound)/2.)\n",
      "        \n",
      "        #update conditional statement\n",
      "        lbound = edge\n",
      "    \n",
      "    #make errorbar plot\n",
      "    plt.errorbar(midpoints, fracs, yerr)\n",
      "    plt.plot([0,1],[0,1])\n",
      "    \n",
      "    #label plot\n",
      "    plt.xlabel('Predicted Fraction Fresh')\n",
      "    plt.ylabel('Fraction Fresh')\n",
      "    plt.title('Predicted vs. Actual Fraction')\n",
      "    plt.legend(['Y = X', 'Fraction Fresh', 'Std. Err.'], loc=0)\n",
      "    remove_border()\n",
      "    \n",
      "    #plot histrogram\n",
      "    plt.figure(2)\n",
      "    plt.hist(probs[:,1], bins= 20)\n",
      "    \n",
      "    #label plot\n",
      "    plt.xlabel('Probility of Freshness')\n",
      "    plt.ylabel('# of Examples')\n",
      "    plt.title('# of Examples per Bin')\n",
      "    remove_border()"
     ],
     "language": "python",
     "metadata": {},
     "outputs": [],
     "prompt_number": 384
    },
    {
     "cell_type": "code",
     "collapsed": false,
     "input": [
      "calibration_plot(clf, x_test, y_test)"
     ],
     "language": "python",
     "metadata": {},
     "outputs": [
      {
       "metadata": {},
       "output_type": "display_data",
       "png": "[encoded data removed]",
       "text": [
        "<matplotlib.figure.Figure at 0x10e38d1d0>"
       ]
      },
      {
       "metadata": {},
       "output_type": "display_data",
       "png": "[encoded data removed]",
       "text": [
        "<matplotlib.figure.Figure at 0x10c8040d0>"
       ]
      }
     ],
     "prompt_number": 385
    },
    {
     "cell_type": "markdown",
     "metadata": {},
     "source": [
      "**3.5** We might say a model is *over-confident* if the freshness fraction is usually closer to 0.5 than expected (that is, there is more uncertainty than the model predicted). Likewise, a model is *under-confident* if the probabilities are usually further away from 0.5. Is this model generally over- or under-confident? "
     ]
    },
    {
     "cell_type": "markdown",
     "metadata": {},
     "source": [
      "This model is generally over-confident. We say the model is over-confident because the actual fraction of examples that are fresh is usually closer to 0.5 than the model suggests. We can see this by quickly examining the slope of the upper plot."
     ]
    },
    {
     "cell_type": "markdown",
     "metadata": {},
     "source": [
      "#### Cross Validation\n",
      "\n",
      "Our classifier has a few free parameters. The two most important are:\n",
      "\n",
      " 1. The `min_df` keyword in `CountVectorizer`, which will ignore words which appear in fewer than `min_df` fraction of reviews. Words that appear only once or twice can lead to overfitting, since words which occur only a few times might correlate very well with Fresh/Rotten reviews by chance in the training dataset.\n",
      " \n",
      " 2. The [`alpha` keyword](http://scikit-learn.org/stable/modules/naive_bayes.html#multinomial-naive-bayes) in the Bayesian classifier is a \"smoothing parameter\" -- increasing the value decreases the sensitivity to any single feature, and tends to pull prediction probabilities closer to 50%. \n",
      "\n",
      "As discussed in lecture and HW2, a common technique for choosing appropriate values for these parameters is **cross-validation**. Let's choose good parameters by maximizing the cross-validated log-likelihood.\n",
      "\n",
      "**3.6** Using `clf.predict_log_proba`, write a function that computes the log-likelihood of a dataset"
     ]
    },
    {
     "cell_type": "code",
     "collapsed": false,
     "input": [
      "\"\"\"\n",
      "Function\n",
      "--------\n",
      "log_likelihood\n",
      "\n",
      "Compute the log likelihood of a dataset according to a bayesian classifier. \n",
      "The Log Likelihood is defined by\n",
      "\n",
      "L = Sum_fresh(logP(fresh)) + Sum_rotten(logP(rotten))\n",
      "\n",
      "Where Sum_fresh indicates a sum over all fresh reviews, \n",
      "and Sum_rotten indicates a sum over rotten reviews\n",
      "    \n",
      "Parameters\n",
      "----------\n",
      "clf : Bayesian classifier\n",
      "x : (nexample, nfeature) array\n",
      "    The input data\n",
      "y : (nexample) integer array\n",
      "    Whether each review is Fresh\n",
      "\"\"\"\n",
      "def log_likelihood(clf, x, y):\n",
      "    \n",
      "    frsh = x[y == 1]\n",
      "    rott = x[y == 0]\n",
      "\n",
      "            \n",
      "    L = sum(clf.predict_log_proba(frsh))[1] + sum(clf.predict_log_proba(rott))[0]\n",
      "    \n",
      "    return L\n"
     ],
     "language": "python",
     "metadata": {},
     "outputs": [],
     "prompt_number": 457
    },
    {
     "cell_type": "markdown",
     "metadata": {},
     "source": [
      "Here's a function to estimate the cross-validated value of a scoring function, given a classifier and data"
     ]
    },
    {
     "cell_type": "code",
     "collapsed": false,
     "input": [
      "from sklearn.cross_validation import KFold\n",
      "\n",
      "def cv_score(clf, x, y, score_func):\n",
      "    \"\"\"\n",
      "    Uses 5-fold cross validation to estimate a score of a classifier\n",
      "    \n",
      "    Inputs\n",
      "    ------\n",
      "    clf : Classifier object\n",
      "    x : Input feature vector\n",
      "    y : Input class labels\n",
      "    score_func : Function like log_likelihood, that takes (clf, x, y) as input,\n",
      "                 and returns a score\n",
      "                 \n",
      "    Returns\n",
      "    -------\n",
      "    The average score obtained by randomly splitting (x, y) into training and \n",
      "    test sets, fitting on the training set, and evaluating score_func on the test set\n",
      "    \n",
      "    Examples\n",
      "    cv_score(clf, x, y, log_likelihood)\n",
      "    \"\"\"\n",
      "    result = 0\n",
      "    nfold = 5\n",
      "    for train, test in KFold(y.size, nfold, indices = False): # split data into train/test groups, 5 times\n",
      "        clf.fit(x[train], y[train]) # fit\n",
      "        result += score_func(clf, x[test], y[test]) # evaluate score function on held-out data\n",
      "    return result / nfold # average\n",
      "\n",
      "# as a side note, this function is builtin to the newest version of sklearn. We could just write\n",
      "# sklearn.cross_validation.cross_val_score(clf, x, y, scorer=log_likelihood)."
     ],
     "language": "python",
     "metadata": {},
     "outputs": [],
     "prompt_number": 458
    },
    {
     "cell_type": "markdown",
     "metadata": {},
     "source": [
      "**3.7**\n",
      "\n",
      "Fill in the remaining code in this block, to loop over many values of `alpha` and `min_df` to determine\n",
      "which settings are \"best\" in the sense of maximizing the cross-validated log-likelihood"
     ]
    },
    {
     "cell_type": "code",
     "collapsed": false,
     "input": [
      "#the grid of parameters to search over\n",
      "alphas = [0, .1, 1, 5, 10, 50]\n",
      "min_dfs = [1e-5, 1e-4, 1e-3, 1e-2, 1e-1]\n",
      "\n",
      "#Find the best value for alpha and min_df, and the best classifier\n",
      "best_alpha = None\n",
      "best_min_df = None\n",
      "max_loglike = -np.inf\n",
      "\n",
      "for alpha in alphas:\n",
      "    for min_df in min_dfs: \n",
      "        vectorizer = CountVectorizer(min_df = min_df)       \n",
      "        X, Y = make_xy(critics, vectorizer)\n",
      "        \n",
      "        #get multinomial with alpha\n",
      "        clf_alpha = MultinomialNB(alpha= alpha)\n",
      "        \n",
      "        #get score\n",
      "        score = cv_score(clf_alpha ,X, Y, log_likelihood)\n",
      "        \n",
      "        #track top score\n",
      "        if score > max_loglike:\n",
      "            best_alpha = alpha\n",
      "            best_min_df = min_df\n",
      "            max_loglike = score\n",
      "            continue\n"
     ],
     "language": "python",
     "metadata": {},
     "outputs": [],
     "prompt_number": 459
    },
    {
     "cell_type": "code",
     "collapsed": false,
     "input": [
      "print \"alpha: %f\" % best_alpha\n",
      "print \"min_df: %f\" % best_min_df"
     ],
     "language": "python",
     "metadata": {},
     "outputs": [
      {
       "output_type": "stream",
       "stream": "stdout",
       "text": [
        "alpha: 5.000000\n",
        "min_df: 0.001000\n"
       ]
      }
     ],
     "prompt_number": 464
    },
    {
     "cell_type": "markdown",
     "metadata": {},
     "source": [
      "**3.8** Now that you've determined values for alpha and min_df that optimize the cross-validated log-likelihood, repeat the steps in 3.1, 3.2, and 3.4 to train a final classifier with these parameters, re-evaluate the accuracy, and draw a new calibration plot."
     ]
    },
    {
     "cell_type": "code",
     "collapsed": false,
     "input": [
      "####3.1###\n",
      "vectorizer = CountVectorizer(min_df = best_min_df)\n",
      "X, Y = make_xy(critics, vectorizer= vectorizer)\n",
      "\n",
      "###3.2###\n",
      "#split data sets\n",
      "x_train, x_test, y_train, y_test = train_test_split(X, Y)\n",
      "\n",
      "#create naive bayes califier for multinomials\n",
      "clf = MultinomialNB(alpha = best_alpha)\n",
      "\n",
      "#fit the model with the training data\n",
      "clf.fit(x_train, y_train)\n",
      "\n",
      "#predict outcome\n",
      "prediction = clf.predict(x_test)\n",
      "\n",
      "#compare prediciton to true\n",
      "correct = (prediction == y_test)\n",
      "\n",
      "#calculate pct correct\n",
      "pct_cor = 100. * sum(correct)/float(len(correct))\n",
      "\n",
      "#print results\n",
      "print 'Percent correctly predicted: ' + str(pct_cor)\n",
      "\n",
      "###3.4###\n",
      "calibration_plot(clf, X, Y)\n"
     ],
     "language": "python",
     "metadata": {},
     "outputs": [
      {
       "output_type": "stream",
       "stream": "stdout",
       "text": [
        "Percent correctly predicted: 73.6909650924\n"
       ]
      },
      {
       "metadata": {},
       "output_type": "display_data",
       "png": "[encoded data removed]",
       "text": [
        "<matplotlib.figure.Figure at 0x1007ba410>"
       ]
      },
      {
       "metadata": {},
       "output_type": "display_data",
       "png": "[encoded data removed]",
       "text": [
        "<matplotlib.figure.Figure at 0x10cf1e590>"
       ]
      }
     ],
     "prompt_number": 482
    },
    {
     "cell_type": "markdown",
     "metadata": {},
     "source": [
      "**3.9** Discuss the various ways in which Cross-Validation has affected the model. Is the new model more or less accurate? Is overfitting better or worse? Is the model more or less calibrated?"
     ]
    },
    {
     "cell_type": "markdown",
     "metadata": {},
     "source": [
      "The Cross-Validation has affected the model in various ways. One way is that that the probabilities are less concetrated around 1, that is they are more evenly distributed between each bin. This results in a lower standard deviation for each bin. Additionaly, the slope of the upper plot is much closer 1. This indicates that the model is no longer significantly over confident. All of these improvements were achieved without compromising accuracty (it fell by just 2%). This adjusted model is more calibrated."
     ]
    },
    {
     "cell_type": "markdown",
     "metadata": {},
     "source": [
      "*To think about/play with, but not to hand in: What would happen if you tried this again using a function besides the log-likelihood -- for example, the classification accuracy?*"
     ]
    },
    {
     "cell_type": "markdown",
     "metadata": {},
     "source": [
      "## Part 4: Interpretation. What words best predict a fresh or rotten review?\n",
      "\n",
      "**4.1**\n",
      "Using your classifier and the `vectorizer.get_feature_names` method, determine which words best predict a positive or negative review. Print the 10 words\n",
      "that best predict a \"fresh\" review, and the 10 words that best predict a \"rotten\" review. For each word, what is the model's probability of freshness if the word appears one time?\n",
      "\n",
      "#### Hints\n",
      "\n",
      "* Try computing the classification probability for a feature vector which consists of all 0s, except for a single 1. What does this probability refer to?\n",
      "\n",
      "* `np.eye` generates a matrix where the ith row is all 0s, except for the ith column which is 1."
     ]
    },
    {
     "cell_type": "code",
     "collapsed": false,
     "input": [
      "features = vectorizer.get_feature_names()\n",
      "feat_prb = clf.predict_proba(np.eye(len(features)))\n",
      "\n",
      "rot_feat = feat_prb[:,0]\n",
      "fresh_feat = feat_prb[:,1]\n",
      "\n",
      "#sort array from min to max, return index, trim to last 10 entries, reverse order\n",
      "top_rot = rot_feat.argsort()[-10:][::-1]\n",
      "top_fresh = fresh_feat.argsort()[-10:][::-1]\n",
      "\n",
      "#print fresh predcitors\n",
      "print '10 best predictors are as follows\\n'\n",
      "print 'For fresh reviews:'\n",
      "for i, indx in enumerate(top_fresh.flat):\n",
      "    print ((str(i+1) + '. ').ljust(4) + features[indx]).ljust(25) + 'prob = ' + str(fresh_feat[indx])\n",
      "    \n",
      "#formatting\n",
      "print\n",
      "    \n",
      "#print rotten predictors\n",
      "print 'For rotten reviews:'\n",
      "for i, indx in enumerate(top_rot.flat):\n",
      "    print ((str(i+1) + '. ').ljust(4) + features[indx]).ljust(25) + 'prob = ' + str(rot_feat[indx])"
     ],
     "language": "python",
     "metadata": {},
     "outputs": [
      {
       "output_type": "stream",
       "stream": "stdout",
       "text": [
        "10 best predictors are as follows\n",
        "\n",
        "For fresh reviews:\n",
        "1.  delight              prob = 0.904562919206\n",
        "2.  touching             prob = 0.896730054581\n",
        "3.  masterpiece          prob = 0.886156040451\n",
        "4.  beautifully          prob = 0.876280878912\n",
        "5.  superb               prob = 0.871786849628\n",
        "6.  remarkable           prob = 0.864002555764\n",
        "7.  witty                prob = 0.862935673527\n",
        "8.  perfect              prob = 0.862543554285\n",
        "9.  entertaining         prob = 0.858724169668\n",
        "10. moving               prob = 0.857339924985\n",
        "\n",
        "For rotten reviews:\n",
        "1.  unfortunately        prob = 0.874314726412\n",
        "2.  lame                 prob = 0.853457252578\n",
        "3.  bland                prob = 0.849898781081\n",
        "4.  uninspired           prob = 0.834640256231\n",
        "5.  pointless            prob = 0.817018265232\n",
        "6.  dull                 prob = 0.81370951017\n",
        "7.  disappointment       prob = 0.810278890819\n",
        "8.  unfunny              prob = 0.810278890819\n",
        "9.  witless              prob = 0.78671216893\n",
        "10. worst                prob = 0.782858916308\n"
       ]
      }
     ],
     "prompt_number": 553
    },
    {
     "cell_type": "markdown",
     "metadata": {},
     "source": [
      "**4.2**\n",
      "\n",
      "One of the best sources for inspiration when trying to improve a model is to look at examples where the model performs poorly. \n",
      "\n",
      "Find 5 fresh and rotten reviews where your model performs particularly poorly. Print each review."
     ]
    },
    {
     "cell_type": "code",
     "collapsed": false,
     "input": [
      "#get prediction of fresh\n",
      "prob_r = clf.predict_proba(X)\n",
      "\n",
      "#find where prediction was farthest from the truth\n",
      "wrong = abs(Y- prob_r[:,1])\n",
      "\n",
      "#sort array from min to max, return index, trim to last 10 entries, reverse order\n",
      "indx_wrg = wrong.argsort()[-5:][::-1]\n",
      "\n",
      "print 'The most poorly performing quotes are:\\n'\n",
      "for n, i in enumerate(indx_wrg.flat):\n",
      "    print '              True: ' + critics['fresh'].irow(i).ljust(15) + 'P(fresh)= ' + str(prob_r[i,1]).ljust(25) + 'Movie Title: ' + critics['title'].irow(i)\n",
      "    print (str(n+1) + '. ').ljust(4) + critics['quote'].irow(i)\n",
      "    print\n"
     ],
     "language": "python",
     "metadata": {},
     "outputs": [
      {
       "output_type": "stream",
       "stream": "stdout",
       "text": [
        "The most poorly performing quotes are:\n",
        "\n",
        "              True: fresh          P(fresh)= 0.00106494249748         Movie Title: Young Frankenstein\n",
        "1.  Some of the gags don't work, but fewer than in any previous Brooks film that I've seen, and when the jokes are meant to be bad, they are riotously poor. What more can one ask of Mel Brooks?\n",
        "\n",
        "              True: fresh          P(fresh)= 0.00184529581684         Movie Title: Charlotte's Web\n",
        "2.  There's too much talent and too strong a story to mess it up. There was potential for more here, but this incarnation is nothing to be ashamed of, and some of the actors answer the bell.\n",
        "\n",
        "              True: fresh          P(fresh)= 0.00201135448596         Movie Title: The Fugitive\n",
        "3.  Though it's a good half hour too long, this overblown 1993 spin-off of the 60s TV show otherwise adds up to a pretty good suspense thriller.\n",
        "\n",
        "              True: fresh          P(fresh)= 0.00241582822012         Movie Title: The Mask\n",
        "4.  The gangland plot is flimsy (bad guy Peter Greene wears too much eyeliner), and the jokes are erratic, but it's a far better showcase for Carrey's comic-from-Uranus talent than Ace Ventura.\n",
        "\n",
        "              True: rotten         P(fresh)= 0.996851155111           Movie Title: Grosse Pointe Blank\n",
        "5.  It's a sad day when an actor who's totally, beautifully in touch with his dark side finds himself stuck in a movie that's scared of its own shadow.\n",
        "\n"
       ]
      }
     ],
     "prompt_number": 633
    },
    {
     "cell_type": "markdown",
     "metadata": {},
     "source": [
      "**4.3** What do you notice about these mis-predictions? Naive Bayes classifiers assume that every word affects the probability independently of other words. In what way is this a bad assumption? In your answer, report your classifier's Freshness probability for the review \"This movie is not remarkable, touching, or superb in any way\"."
     ]
    },
    {
     "cell_type": "markdown",
     "metadata": {},
     "source": [
      "These quotes all share the common characteristic that grammatically, they are not straight forward. The Naive Bayes' assumption is bad in that it does not work well with non-literal phrases like those above. The requested probability is calculated below:"
     ]
    },
    {
     "cell_type": "code",
     "collapsed": false,
     "input": [
      "z = vectorizer.transform(['This movie is not remarkable, touching, or superb in any way'])\n",
      "print 'The predicted P(Fresh) for \"This movie is not remarkable, touching, or superb in any way\" is: ' + str(clf.predict_proba(z)[:,1][0])"
     ],
     "language": "python",
     "metadata": {},
     "outputs": [
      {
       "output_type": "stream",
       "stream": "stdout",
       "text": [
        "The predicted P(Fresh) for \"This movie is not remarkable, touching, or superb in any way\" is: 0.98552082458\n"
       ]
      }
     ],
     "prompt_number": 646
    },
    {
     "cell_type": "markdown",
     "metadata": {},
     "source": [
      "**4.4**\n",
      "If this was your final project, what are 3 things you would try in order to build a more effective review classifier? What other exploratory or explanatory visualizations do you think might be helpful?"
     ]
    },
    {
     "cell_type": "markdown",
     "metadata": {},
     "source": [
      "If this was my final project one thing I would try in order to build a more effective review classifier is to try and account for negative words like \"not\". I would also try to teach the classifier how to correctly deal with non-linear sentance structures and structures were comparisons are being made. Lastly, I would implement a feature to treat list of descriptors (e.g. \"remarkable, touching, or superb\") more cohesively.\")"
     ]
    },
    {
     "cell_type": "markdown",
     "metadata": {},
     "source": [
      "### How to Submit\n",
      "\n",
      "Restart and run your notebook one last time, to make sure the output from each cell is up to date. To submit your homework, create a folder named lastname_firstinitial_hw3 and place your solutions in the folder. Double check that the file is still called HW3.ipynb, and that it contains your code. Please do **not** include the critics.csv data file, if you created one. Compress the folder (please use .zip compression) and submit to the CS109 dropbox in the appropriate folder. If we cannot access your work because these directions are not followed correctly, we will not grade your work!"
     ]
    },
    {
     "cell_type": "markdown",
     "metadata": {},
     "source": [
      "---\n",
      "*css tweaks in this cell*\n",
      "<style>\n",
      "div.text_cell_render {\n",
      "    line-height: 150%;\n",
      "    font-size: 110%;\n",
      "    width: 800px;\n",
      "    margin-left:50px;\n",
      "    margin-right:auto;\n",
      "    }\n",
      "</style>"
     ]
    }
   ],
   "metadata": {}
  }
 ]
}