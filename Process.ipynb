{
 "metadata": {
  "name": ""
 },
 "nbformat": 3,
 "nbformat_minor": 0,
 "worksheets": [
  {
   "cells": [
    {
     "cell_type": "markdown",
     "metadata": {},
     "source": [
      "****Planning****\n",
      "\n",
      "We are debating what the goal of our project should be. We should start by trying to predict which team will win a given game. If possible we could later add complexity to our model by trying to predicted the best fantasy basketball lineup.\n",
      "\n",
      "****How should we approach this problem?****\n",
      "\n",
      "    1. We will start with a very simple regression predicting a binary home team win (1) or home team loss (-1). In order to keep the first step as simple as possilbe we will use a basic linear regression and remove variables with p values above 0.05. Hopefully this will give us an idea of which statistics are important in predicting which team will win.\n",
      "    2. Expanding on the previous step we can use the same data to predict the difference in score (team_1 - team 2). This will further our project by working torwards a measure of confidence that a team will win a game. For example if team_1 is predicted to win by 2 points, we should be less confident they will be victorious than if we predict them to win by 20. This brings us to our next step....\n",
      "    3. We move to a Baysian approach by....\n",
      "   \n",
      "    "
     ]
    },
    {
     "cell_type": "markdown",
     "metadata": {},
     "source": [
      "****Data Collection****\n",
      "Websites:\n",
      "\n",
      "Having a problem gett"
     ]
    },
    {
     "cell_type": "code",
     "collapsed": false,
     "input": [],
     "language": "python",
     "metadata": {},
     "outputs": []
    }
   ],
   "metadata": {}
  }
 ]
}