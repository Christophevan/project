{
 "metadata": {
  "name": ""
 },
 "nbformat": 3,
 "nbformat_minor": 0,
 "worksheets": [
  {
   "cells": [
    {
     "cell_type": "heading",
     "level": 2,
     "metadata": {},
     "source": [
      "Planning"
     ]
    },
    {
     "cell_type": "markdown",
     "metadata": {},
     "source": [
      "We are debating what the goal of our project should be. We should start by trying to predict which team will win a given game. If possible we could later add complexity to our model by trying to predicted the best fantasy basketball lineup.\n",
      "\n",
      "****How should we approach this problem?****\n",
      "\n",
      "1. We will start with a very simple regression predicting a binary home team win (1) or home team loss (-1). In order to keep the first step as simple as possilbe we will use a basic linear regression and remove variables with p values above 0.05. Hopefully this will give us an idea of which statistics are important in predicting which team will win.\n",
      "\n",
      "2. Expanding on the previous step we can use the same data to predict the difference in score (team_1 - team 2). This will further our project by working torwards a measure of confidence that a team will win a game. For example if team_1 is predicted to win by 2 points, we should be less confident they will be victorious than if we predict them to win by 20. This brings us to our next step....\n",
      "\n",
      "3. We move to a Baysian approach by....\n",
      "   \n",
      "    "
     ]
    },
    {
     "cell_type": "heading",
     "level": 2,
     "metadata": {},
     "source": [
      "Data Collection"
     ]
    },
    {
     "cell_type": "markdown",
     "metadata": {},
     "source": [
      "In order to maximize efficiency, it is important to define the goals of our data colleciton. Specifically, we seek to compile four datasets to begin working towrds our final model. These sets are:\n",
      "    \n",
      "1. Team Data: The statistics of each team over an entire season. This information should be useful in establishing a prior.\n",
      "    \n",
      "2. League Standings: In further developing our prior as well as for our first (intentionally simplistic) model we will collect leaguse standings from past season.\n",
      "    \n",
      "3. Player Data: We will examine player performance stastistcs to see if and how they can explain game outcomes. If the data is available, one model could update predicitons based on player trades or injuries.\n",
      "    \n",
      "4. Game Data: What will likely be the most important piece of information for our model is same season game data. There are over 1200 games played in a regular NBA season, this provides a comprehensive dataset for up to date performance"
     ]
    },
    {
     "cell_type": "heading",
     "level": 4,
     "metadata": {},
     "source": [
      "Data Sources"
     ]
    },
    {
     "cell_type": "markdown",
     "metadata": {},
     "source": [
      "The following websites provide a good starting point to find the most releveant data:\n",
      "\n",
      "1. http://www.databasebasketball.com/\n",
      "2. http://www.basketball-reference.com/\n",
      "3. http://stats.nba.com/\n",
      "4. http://www.82games.com/\n",
      "5. http://www.hoopdata.com/\n",
      "6. http://www.nbastuffer.com/tag/Downloadable_NBA_Stats.html"
     ]
    },
    {
     "cell_type": "heading",
     "level": 4,
     "metadata": {},
     "source": [
      "Notes on Data Collection"
     ]
    },
    {
     "cell_type": "markdown",
     "metadata": {},
     "source": [
      "In writing the scraping functions issues we encoutered included:\n",
      "\n",
      "1. Parser\n",
      "2. Date information"
     ]
    },
    {
     "cell_type": "code",
     "collapsed": false,
     "input": [],
     "language": "python",
     "metadata": {},
     "outputs": []
    }
   ],
   "metadata": {}
  }
 ]
}