{
 "metadata": {
  "name": ""
 },
 "nbformat": 3,
 "nbformat_minor": 0,
 "worksheets": [
  {
   "cells": [
    {
     "cell_type": "code",
     "collapsed": false,
     "input": [
      "# special IPython command to prepare the notebook for matplotlib\n",
      "%matplotlib inline \n",
      "\n",
      "from fnmatch import fnmatch\n",
      "\n",
      "import numpy as np\n",
      "import pandas as pd\n",
      "import matplotlib.pyplot as plt\n",
      "import requests\n",
      "from pattern import web\n",
      "import json\n",
      "from BeautifulSoup import BeautifulSoup"
     ],
     "language": "python",
     "metadata": {},
     "outputs": [],
     "prompt_number": 2
    },
    {
     "cell_type": "code",
     "collapsed": false,
     "input": [
      "def header(num, tbls):\n",
      "    headers = [th.content for th in tbls[num].by_tag('th')]\n",
      "    header_list = []\n",
      "    for i in range(len(headers)):\n",
      "        header_list.append(str(headers[i].split('<b>')[1].split('</b>')[0]))\n",
      "    return header_list"
     ],
     "language": "python",
     "metadata": {},
     "outputs": [],
     "prompt_number": 18
    },
    {
     "cell_type": "code",
     "collapsed": false,
     "input": [
      "def rows_values(num, tbls):\n",
      "    rows = tbls[num].by_tag('tr')\n",
      "    rows.pop(0)\n",
      "    d = {}\n",
      "    year = 2007\n",
      "    for k in range(len(rows)):\n",
      "        z = str(rows[k].content).split('<font color=\"Black\" size=\"3\">')\n",
      "        z.pop(0)\n",
      "        row = []\n",
      "        for i in range(len(z)):\n",
      "             row.append(z[i].split('</font>')[0])\n",
      "        d[year] = row    \n",
      "        year = year + 1\n",
      "    return d  "
     ],
     "language": "python",
     "metadata": {},
     "outputs": [],
     "prompt_number": 56
    },
    {
     "cell_type": "code",
     "collapsed": false,
     "input": [
      "def player_dict(num, tbls):\n",
      "    \n",
      "    table_dict = {}\n",
      "    table_dict['header'] = header(num, tbls)\n",
      "    table_dict['content'] = rows_values(num, tbls)\n",
      "    \n",
      "    return table_dict   "
     ],
     "language": "python",
     "metadata": {},
     "outputs": [],
     "prompt_number": 57
    },
    {
     "cell_type": "code",
     "collapsed": false,
     "input": [
      "def player_final(first_name, last_name):\n",
      "    \n",
      "    string = first_name + '%20' + last_name\n",
      "    url = 'http://hoopdata.com/player.aspx?name=%s' % string\n",
      "    data = requests.get(url).text\n",
      "    dom = web.Element(data)\n",
      "    tbls = [t for t in dom.by_tag('table')]\n",
      "    \n",
      "    a = range (0, len(tbls))\n",
      "    a = [x for x in a if x % 2 != 0]\n",
      "    \n",
      "    table = {}\n",
      "    count = 1\n",
      "    for i in a:\n",
      "        table[count] = player_dict(i, tbls)\n",
      "        count = count + 1\n",
      "    return table   "
     ],
     "language": "python",
     "metadata": {},
     "outputs": [],
     "prompt_number": 58
    },
    {
     "cell_type": "code",
     "collapsed": false,
     "input": [
      "first_name = 'Chris'\n",
      "last_name = 'Paul'"
     ],
     "language": "python",
     "metadata": {},
     "outputs": [],
     "prompt_number": 59
    },
    {
     "cell_type": "code",
     "collapsed": false,
     "input": [
      "final = player_final(first_name, last_name)"
     ],
     "language": "python",
     "metadata": {},
     "outputs": [],
     "prompt_number": 60
    },
    {
     "cell_type": "code",
     "collapsed": false,
     "input": [],
     "language": "python",
     "metadata": {},
     "outputs": [],
     "prompt_number": 61
    },
    {
     "cell_type": "code",
     "collapsed": false,
     "input": [
      "url = 'http://hoopdata.com/advancedstats.aspx'\n",
      "data = requests.get(url).text\n",
      "dom = web.Element(data) "
     ],
     "language": "python",
     "metadata": {},
     "outputs": [],
     "prompt_number": 63
    },
    {
     "cell_type": "code",
     "collapsed": false,
     "input": [
      "tables = dom.by_class('MyGridView')\n",
      "tables.pop(0)"
     ],
     "language": "python",
     "metadata": {},
     "outputs": [
      {
       "metadata": {},
       "output_type": "pyout",
       "prompt_number": 73,
       "text": [
        "Element(tag='table')"
       ]
      }
     ],
     "prompt_number": 73
    },
    {
     "cell_type": "code",
     "collapsed": false,
     "input": [],
     "language": "python",
     "metadata": {},
     "outputs": [
      {
       "metadata": {},
       "output_type": "pyout",
       "prompt_number": 74,
       "text": [
        "[Element(tag='table'), Element(tag='table')]"
       ]
      }
     ],
     "prompt_number": 74
    },
    {
     "cell_type": "code",
     "collapsed": false,
     "input": [
      "for a in t:\n",
      "    print a.attributes\n"
     ],
     "language": "python",
     "metadata": {},
     "outputs": [
      {
       "output_type": "stream",
       "stream": "stdout",
       "text": [
        "{u'style': u'color:Black;background-color:#F8F8F8;border-color:#DDDDDD;border-width:1px;border-style:solid;font-size:Small;width:884px;border-collapse:collapse;', u'rules': u'all', u'cellspacing': u'0', u'id': u'MyGridView', u'cellpadding': u'1', u'border': u'1', u'class': u'MyGridView'}\n",
        "{u'bordercolor': u'#DDDDDD', u'width': u'100%', u'rules': u'all', u'cellspacing': u'0', u'id': u'MyGridView2', u'bgcolor': u'#F8F8F8', u'cellpadding': u'1', u'border': u'1', u'class': u'MyGridView'}\n",
        "{u'bordercolor': u'#DDDDDD', u'width': u'100%', u'rules': u'all', u'cellspacing': u'0', u'id': u'MyGridView', u'bgcolor': u'#F8F8F8', u'cellpadding': u'1', u'border': u'1', u'class': u'MyGridView'}\n"
       ]
      }
     ],
     "prompt_number": 71
    },
    {
     "cell_type": "code",
     "collapsed": false,
     "input": [],
     "language": "python",
     "metadata": {},
     "outputs": [],
     "prompt_number": 160
    },
    {
     "cell_type": "code",
     "collapsed": false,
     "input": [],
     "language": "python",
     "metadata": {},
     "outputs": [],
     "prompt_number": 160
    },
    {
     "cell_type": "code",
     "collapsed": false,
     "input": [],
     "language": "python",
     "metadata": {},
     "outputs": []
    }
   ],
   "metadata": {}
  }
 ]
}