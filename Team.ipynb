{
 "metadata": {
  "name": ""
 },
 "nbformat": 3,
 "nbformat_minor": 0,
 "worksheets": [
  {
   "cells": [
    {
     "cell_type": "code",
     "collapsed": false,
     "input": [
      "# special IPython command to prepare the notebook for matplotlib\n",
      "%matplotlib inline \n",
      "\n",
      "from fnmatch import fnmatch\n",
      "\n",
      "import numpy as np\n",
      "import pandas as pd\n",
      "import matplotlib.pyplot as plt\n",
      "import requests\n",
      "from pattern import web\n",
      "import json\n",
      "from bs4 import BeautifulSoup\n",
      "import re"
     ],
     "language": "python",
     "metadata": {},
     "outputs": [],
     "prompt_number": 131
    },
    {
     "cell_type": "code",
     "collapsed": false,
     "input": [
      "\"\"\"\n",
      "Function: header(num, tbls)\n",
      "\tGet the headers from a table\n",
      "\n",
      "Parameters:\n",
      "\tnum: integer id of a table number on a given page\n",
      "    tbls: List of tables \n",
      "\n",
      "Returns:\n",
      "\theaders: list of table headers for the table with the id of num\n",
      "\"\"\"\n",
      "def header(num, tbls):\n",
      "    # Get the content of th tags\n",
      "    headers = [th.content for th in tbls[num].by_tag('th')]\n",
      "    \n",
      "    # Break up HTML to get column header\n",
      "    headers = [header[header.find('b>')+2:header.find('</b')] for header in headers]\n",
      "    \n",
      "    return headers"
     ],
     "language": "python",
     "metadata": {},
     "outputs": [],
     "prompt_number": 105
    },
    {
     "cell_type": "code",
     "collapsed": false,
     "input": [
      "\"\"\"\n",
      "Function: rows_values(num, tbls)\n",
      "\tGet the values from the rows\n",
      "\n",
      "Parameters:\n",
      "\tnum: integer id of a table number on a given page\n",
      "    tbls: List of tables \n",
      "\n",
      "Returns:\n",
      "\trow_vals: dict with player row values indexed by year\n",
      "\"\"\"\n",
      "\n",
      "def rows_values(num, tbls):\n",
      "    \n",
      "    #Get rows, drop header row\n",
      "    rows = (tbls[num].by_tag('tr'))[1:]\n",
      "\n",
      "    #Set starting year (2007 was first year data was collected)\n",
      "    year = 2007\n",
      "    \n",
      "    #Initialize dict to return\n",
      "    row_vals = {}\n",
      "    \n",
      "    for incrament, row in enumerate(rows):\n",
      "        #Get row values\n",
      "        contents = (str(row.content).split('<font color=\"Black\" size=\"3\">'))[1:]\n",
      "        \n",
      "        #Get row values, split into 2 parts for readability\n",
      "        row_val = [content.split('</font>')[0] for content in contents]\n",
      "             \n",
      "        #Store year's data in a dict under respective year\n",
      "        row_vals[year + incrament] = row_val   \n",
      "\n",
      "    return row_vals "
     ],
     "language": "python",
     "metadata": {},
     "outputs": [],
     "prompt_number": 132
    },
    {
     "cell_type": "code",
     "collapsed": false,
     "input": [
      "string = 'LeBron' + '%20' + 'James'\n",
      "url = 'http://hoopdata.com/player.aspx?name=%s' % string\n",
      "data = requests.get(url).text\n",
      "dom = web.Element(data)\n",
      "tbls = [t for t in dom.by_tag('table')]\n",
      "\n",
      "a = range (0, len(tbls))\n",
      "a = [x for x in a if x % 2 != 0]\n",
      "\n",
      "table = {}\n",
      "count = 0\n",
      "for i in a:\n",
      "    if i < 2:\n",
      "        print rows_values(i, tbls)"
     ],
     "language": "python",
     "metadata": {},
     "outputs": [
      {
       "output_type": "stream",
       "stream": "stdout",
       "text": [
        "{2007: ['LeBron James', '2007', 'CLE', 'SF', '78', '78', '41.0', '9.9', '20.8', '47.6', '1.3', '4.0', '31.9', '6.3', '9.0', '69.8', '1.1', '5.7', '6.7', '6.0', '1.6', '3.2', '0.7', '2.2', '27.3'], 2008: ['LeBron James', '2008', 'CLE', 'SF', '75', '74', '40.4', '10.6', '21.9', '48.4', '1.5', '4.8', '31.5', '7.3', '10.3', '71.2', '1.8', '6.1', '7.9', '7.2', '1.8', '3.4', '1.1', '2.2', '30.0'], 2009: ['LeBron James', '2009', 'CLE', 'SF', '81', '81', '37.7', '9.7', '19.9', '48.9', '1.6', '4.7', '34.4', '7.3', '9.4', '78.0', '1.3', '6.3', '7.6', '7.2', '1.7', '3.0', '1.1', '1.7', '28.4'], 2010: ['LeBron James', '2010', 'CLE', 'SF', '76', '76', '39.0', '10.1', '20.1', '50.3', '1.7', '5.1', '33.3', '7.8', '10.2', '76.7', '0.9', '6.4', '7.3', '8.6', '1.6', '3.4', '1.0', '1.6', '29.7'], 2011: ['LeBron James', '2011', 'MIA', 'SF', '79', '79', '38.8', '9.6', '18.8', '51.1', '1.2', '3.5', '33.0', '6.4', '8.4', '75.9', '1.0', '6.5', '7.5', '7.0', '1.6', '3.6', '0.6', '2.1', '26.7'], 2012: ['LeBron James', '2012', 'MIA', 'SF', '62', '62', '37.5', '10.0', '18.9', '53.1', '0.9', '2.4', '36.2', '6.2', '8.1', '77.1', '1.5', '6.4', '7.9', '6.2', '1.9', '3.4', '0.8', '1.5', '27.1'], 2013: ['LeBron James', '2013', 'MIA', 'SF', '77', '77', '37.8', '10.1', '17.8', '56.7', '1.4', '3.3', '40.6', '5.3', '7.0', '75.3', '1.3', '6.7', '8.0', '7.2', '1.7', '2.9', '0.9', '1.4', '26.8']}\n"
       ]
      }
     ],
     "prompt_number": 133
    },
    {
     "cell_type": "code",
     "collapsed": false,
     "input": [
      "\"\"\"\n",
      "Function: player_dict(num, tbls)\n",
      "\tGet the relative order of words and numbers in the entire list\n",
      "\n",
      "Parameters:\n",
      "\tfull_lst: unedited list to be sorted\n",
      "\n",
      "Returns:\n",
      "\trelOrder: list with boolean values, True if entry is a number, else false\n",
      "\"\"\"\n",
      "def player_dict(num, tbls):\n",
      "    \n",
      "    table_dict = {}\n",
      "    table_dict['header'] = header(num, tbls)\n",
      "    table_dict['content'] = rows_values(num, tbls)\n",
      "    \n",
      "    return table_dict   "
     ],
     "language": "python",
     "metadata": {},
     "outputs": [],
     "prompt_number": 18
    },
    {
     "cell_type": "code",
     "collapsed": false,
     "input": [
      "def player_final(first_name, last_name):\n",
      "    \n",
      "    string = first_name + '%20' + last_name\n",
      "    url = 'http://hoopdata.com/player.aspx?name=%s' % string\n",
      "    data = requests.get(url).text\n",
      "    dom = web.Element(data)\n",
      "    tbls = [t for t in dom.by_tag('table')]\n",
      "    \n",
      "    a = range (0, len(tbls))\n",
      "    a = [x for x in a if x % 2 != 0]\n",
      "    \n",
      "    table = {}\n",
      "    count = 1\n",
      "    for i in a:\n",
      "        table[count] = player_dict(i, tbls)\n",
      "        count = count + 1\n",
      "    return table   "
     ],
     "language": "python",
     "metadata": {},
     "outputs": [],
     "prompt_number": 19
    },
    {
     "cell_type": "code",
     "collapsed": false,
     "input": [
      "first_name = 'Chris'\n",
      "last_name = 'Paul'"
     ],
     "language": "python",
     "metadata": {},
     "outputs": [],
     "prompt_number": 20
    },
    {
     "cell_type": "code",
     "collapsed": false,
     "input": [
      "final = player_final(first_name, last_name)"
     ],
     "language": "python",
     "metadata": {},
     "outputs": [],
     "prompt_number": 21
    },
    {
     "cell_type": "code",
     "collapsed": false,
     "input": [],
     "language": "python",
     "metadata": {},
     "outputs": [],
     "prompt_number": 7
    },
    {
     "cell_type": "code",
     "collapsed": false,
     "input": [
      "url = 'http://hoopdata.com/advancedstats.aspx'\n",
      "data = requests.get(url).text\n",
      "dom = web.Element(data) "
     ],
     "language": "python",
     "metadata": {},
     "outputs": [],
     "prompt_number": 8
    },
    {
     "cell_type": "code",
     "collapsed": false,
     "input": [
      "tables = dom.by_class('MyGridView')\n",
      "tables.pop(0)"
     ],
     "language": "python",
     "metadata": {},
     "outputs": [
      {
       "metadata": {},
       "output_type": "pyout",
       "prompt_number": 9,
       "text": [
        "Element(tag='table')"
       ]
      }
     ],
     "prompt_number": 9
    },
    {
     "cell_type": "code",
     "collapsed": false,
     "input": [],
     "language": "python",
     "metadata": {},
     "outputs": [],
     "prompt_number": 9
    },
    {
     "cell_type": "code",
     "collapsed": false,
     "input": [
      "for a in t:\n",
      "    print a.attributes\n"
     ],
     "language": "python",
     "metadata": {},
     "outputs": [
      {
       "ename": "NameError",
       "evalue": "name 't' is not defined",
       "output_type": "pyerr",
       "traceback": [
        "\u001b[0;31m---------------------------------------------------------------------------\u001b[0m\n\u001b[0;31mNameError\u001b[0m                                 Traceback (most recent call last)",
        "\u001b[0;32m<ipython-input-10-9779bb43e111>\u001b[0m in \u001b[0;36m<module>\u001b[0;34m()\u001b[0m\n\u001b[0;32m----> 1\u001b[0;31m \u001b[0;32mfor\u001b[0m \u001b[0ma\u001b[0m \u001b[0;32min\u001b[0m \u001b[0mt\u001b[0m\u001b[0;34m:\u001b[0m\u001b[0;34m\u001b[0m\u001b[0m\n\u001b[0m\u001b[1;32m      2\u001b[0m     \u001b[0;32mprint\u001b[0m \u001b[0ma\u001b[0m\u001b[0;34m.\u001b[0m\u001b[0mattributes\u001b[0m\u001b[0;34m\u001b[0m\u001b[0m\n",
        "\u001b[0;31mNameError\u001b[0m: name 't' is not defined"
       ]
      }
     ],
     "prompt_number": 10
    },
    {
     "cell_type": "code",
     "collapsed": false,
     "input": [],
     "language": "python",
     "metadata": {},
     "outputs": [],
     "prompt_number": 160
    },
    {
     "cell_type": "code",
     "collapsed": false,
     "input": [],
     "language": "python",
     "metadata": {},
     "outputs": [],
     "prompt_number": 160
    },
    {
     "cell_type": "code",
     "collapsed": false,
     "input": [],
     "language": "python",
     "metadata": {},
     "outputs": []
    }
   ],
   "metadata": {}
  }
 ]
}