{
 "metadata": {
  "name": ""
 },
 "nbformat": 3,
 "nbformat_minor": 0,
 "worksheets": [
  {
   "cells": [
    {
     "cell_type": "code",
     "collapsed": false,
     "input": [
      "# special IPython command to prepare the notebook for matplotlib\n",
      "%matplotlib inline \n",
      "\n",
      "from fnmatch import fnmatch\n",
      "\n",
      "import numpy as np\n",
      "import pandas as pd\n",
      "import matplotlib.pyplot as plt\n",
      "import requests\n",
      "from pattern import web\n",
      "import json\n",
      "from bs4 import BeautifulSoup\n",
      "import re"
     ],
     "language": "python",
     "metadata": {},
     "outputs": [],
     "prompt_number": 2
    },
    {
     "cell_type": "code",
     "collapsed": false,
     "input": [
      "\"\"\"\n",
      "Function: header(num, tbls)\n",
      "\tGet the headers from a table\n",
      "\n",
      "Parameters:\n",
      "\tnum: integer id of a table number on a given page\n",
      "    tbls: List of tables \n",
      "\n",
      "Returns:\n",
      "\theaders: list of table headers for the table with the id of num\n",
      "\"\"\"\n",
      "def header(num, tbls):\n",
      "    # Get the content of th tags\n",
      "    headers = [th.content for th in tbls[num].by_tag('th')]\n",
      "    \n",
      "    # Break up HTML to get column header\n",
      "    headers = [header[header.find('b>')+2:header.find('</b')] for header in headers]\n",
      "    \n",
      "    return headers"
     ],
     "language": "python",
     "metadata": {},
     "outputs": [],
     "prompt_number": 3
    },
    {
     "cell_type": "code",
     "collapsed": false,
     "input": [
      "\"\"\"\n",
      "Function: rows_values(num, tbls)\n",
      "\tGet the values from the rows\n",
      "\n",
      "Parameters:\n",
      "\tnum: integer id of a table number on a given page\n",
      "    tbls: List of tables \n",
      "\n",
      "Returns:\n",
      "\trow_vals: dict with player row values indexed by year\n",
      "\"\"\"\n",
      "\n",
      "def rows_values(num, tbls):\n",
      "    \n",
      "    #Get rows, drop header row\n",
      "    rows = (tbls[num].by_tag('tr'))[1:]\n",
      "\n",
      "    #Set starting year (2007 was first year data was collected)\n",
      "    year = 2007\n",
      "    \n",
      "    #Initialize dict to return\n",
      "    row_vals = {}\n",
      "    \n",
      "    for incrament, row in enumerate(rows):\n",
      "        #Get row values\n",
      "        contents = (str(row.content).split('<font color=\"Black\" size=\"3\">'))[1:]\n",
      "        \n",
      "        #Get row values, split into 2 parts for readability\n",
      "        row_val = [content.split('</font>')[0] for content in contents]\n",
      "             \n",
      "        #Store year's data in a dict under respective year\n",
      "        row_vals[year + incrament] = row_val   \n",
      "\n",
      "    return row_vals "
     ],
     "language": "python",
     "metadata": {},
     "outputs": [],
     "prompt_number": 4
    },
    {
     "cell_type": "code",
     "collapsed": false,
     "input": [
      "\"\"\"\n",
      "Function: player_dict(num, tbls)\n",
      "\tCollect the player's data\n",
      "\n",
      "Parameters:\n",
      "\tnum: integer id of a table number on a given page\n",
      "    tbls: List of tables\n",
      "\n",
      "Returns:\n",
      "\ttable: the dict containing the ['header'] and ['content'] for the table with the id = num\n",
      "\"\"\"\n",
      "def player_dict(num, tbls):\n",
      "    \n",
      "    #Initialize dict\n",
      "    table_dict = {}\n",
      "    \n",
      "    # get header and content, add to dict and return\n",
      "    table_dict['header'] = header(num, tbls)\n",
      "    table_dict['content'] = rows_values(num, tbls)\n",
      "    \n",
      "    return table_dict  "
     ],
     "language": "python",
     "metadata": {},
     "outputs": [],
     "prompt_number": 5
    },
    {
     "cell_type": "code",
     "collapsed": false,
     "input": [
      "\"\"\"\n",
      "Function: player_final(first_name, last_name)\n",
      "\tCollect the player's data\n",
      "\n",
      "Parameters:\n",
      "\tfirst_name: The first name of the player\n",
      "    last_name: The second name of the player\n",
      "\n",
      "Returns:\n",
      "\tplayer_data: the dict containing the ['header'] and ['content'] for the table with the id = num\n",
      "\"\"\"\n",
      "def player_final(first_name, last_name):\n",
      "    \n",
      "    #Concact the parameterets to create the formatted URL\n",
      "    name_url = first_name + '%20' + last_name\n",
      "    url = 'http://hoopdata.com/player.aspx?name=%s' % name_url\n",
      "    \n",
      "    #Download the data from the web\n",
      "    txt = requests.get(url).text\n",
      "    dom = web.Element(txt)\n",
      "    \n",
      "    #Colllect the tables into a list\n",
      "    tbls = [t for t in dom.by_tag('table')]\n",
      "    \n",
      "    #Create a list of the odd table Ids\n",
      "    odd_table_ids = [x for x in range(len(tbls)) if x % 2 != 0]\n",
      "\n",
      "    player_data = {}\n",
      "    \n",
      "    #Iterate over each table and construct the relevant table\n",
      "    for count, table_num in enumerate(odd_table_ids):\n",
      "        player_data[count] = player_dict(table_num, tbls)\n",
      "\n",
      "    return player_data   "
     ],
     "language": "python",
     "metadata": {},
     "outputs": [],
     "prompt_number": 6
    },
    {
     "cell_type": "code",
     "collapsed": false,
     "input": [
      "# Test the scraping and construct methedology\n",
      "final = player_final('Chris', 'Paul')\n",
      "print final[1]"
     ],
     "language": "python",
     "metadata": {},
     "outputs": [
      {
       "output_type": "stream",
       "stream": "stdout",
       "text": [
        "{'content': {2007: ['Chris Paul', '2007', 'NOR', 'PG', '64', '36.8', '23.02', '53.7', '17.3', '47.85', '13.54', '2.6', '11.3', '6.9', '21.22', '7.82', '7.54', '21.94', '23.73'], 2008: ['Chris Paul', '2008', 'NOR', 'PG', '80', '37.6', '25.73', '57.6', '18.7', '55.60', '12.08', '2.4', '10.3', '6.2', '27.89', '11.34', '11.43', '28.39', '30.62'], 2009: ['Chris Paul', '2009', 'NOR', 'PG', '78', '38.5', '27.52', '59.9', '14.3', '50.10', '13.46', '2.8', '14.6', '8.7', '30.45', '12.95', '11.96', '29.96', '32.78'], 2010: ['Chris Paul', '2010', 'NOR', 'PG', '45', '38.1', '22.22', '58.4', '12.4', '57.65', '13.45', '1.4', '11.9', '6.5', '25.60', '10.42', '9.88', '23.71', '26.56'], 2011: ['Chris Paul', '2011', 'NOR', 'PG', '80', '36.1', '21.07', '57.7', '17.9', '61.34', '13.88', '1.6', '12.3', '6.9', '23.08', '9.74', '9.03', '23.70', '26.18'], 2012: ['Chris Paul', '2012', 'LAC', 'PG', '60', '36.4', '24.27', '58.1', '17.9', '47.30', '10.80', '2.3', '9.4', '5.8', '24.47', '9.86', '10.09', '27.02', '29.56'], 2013: ['Chris Paul', '2013', 'LAC', 'PG', '70', '33.4', '22.64', '59.4', '21.8', '36.95', '8.66', '2.8', '10.5', '6.7', '23.79', '10.19', '9.85', '26.45', '28.82']}, 'header': [u'Player Name', u'Yr', u'Tm', u'Pos', u'GP', u'Min', u'USG', u'TS%', u'%Ast', u'AR', u'TOR', u'ORR', u'DRR', u'TRR', u'EFF', u'WS', u'AWS', u'PER', u'APER']}\n"
       ]
      }
     ],
     "prompt_number": 8
    },
    {
     "cell_type": "code",
     "collapsed": false,
     "input": [],
     "language": "python",
     "metadata": {},
     "outputs": []
    }
   ],
   "metadata": {}
  }
 ]
}