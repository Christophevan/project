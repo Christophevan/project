{
 "metadata": {
  "name": ""
 },
 "nbformat": 3,
 "nbformat_minor": 0,
 "worksheets": [
  {
   "cells": [
    {
     "cell_type": "code",
     "collapsed": false,
     "input": [
      "# special IPython command to prepare the notebook for matplotlib\n",
      "%matplotlib inline \n",
      "\n",
      "from fnmatch import fnmatch\n",
      "\n",
      "import numpy as np\n",
      "import pandas as pd\n",
      "import matplotlib.pyplot as plt\n",
      "import requests\n",
      "from pattern import web\n",
      "import json\n",
      "from bs4 import BeautifulSoup\n",
      "import re"
     ],
     "language": "python",
     "metadata": {},
     "outputs": [],
     "prompt_number": 64
    },
    {
     "cell_type": "code",
     "collapsed": false,
     "input": [
      "\"\"\"\n",
      "Function: header(num, tbls)\n",
      "\tGet the headers from a table\n",
      "\n",
      "Parameters:\n",
      "\tnum: integer id of a table number on a given page\n",
      "    tbls: List of tables \n",
      "\n",
      "Returns:\n",
      "\theaders: list of table headers for the table with the id of num\n",
      "\"\"\"\n",
      "def header(num, tbls):\n",
      "    # Get the content of th tags\n",
      "    headers = [th.content for th in tbls[num].by_tag('th')]\n",
      "    \n",
      "    # Break up HTML to get column header\n",
      "    headers = [header[header.find('b>')+2:header.find('</b')] for header in headers]\n",
      "    \n",
      "    return headers"
     ],
     "language": "python",
     "metadata": {},
     "outputs": [],
     "prompt_number": 105
    },
    {
     "cell_type": "code",
     "collapsed": false,
     "input": [
      "def rows_values(num, tbls):\n",
      "    rows = tbls[num].by_tag('tr')\n",
      "    rows.pop(0)\n",
      "    d = {}\n",
      "    year = 2007\n",
      "    for k in range(len(rows)):\n",
      "        z = str(rows[k].content).split('<font color=\"Black\" size=\"3\">')\n",
      "        z.pop(0)\n",
      "        row = []\n",
      "        for i in range(len(z)):\n",
      "             row.append(z[i].split('</font>')[0])\n",
      "        d[year] = row    \n",
      "        year = year + 1\n",
      "    return d  "
     ],
     "language": "python",
     "metadata": {},
     "outputs": [],
     "prompt_number": 96
    },
    {
     "cell_type": "code",
     "collapsed": false,
     "input": [
      "string = 'LeBron' + '%20' + 'James'\n",
      "url = 'http://hoopdata.com/player.aspx?name=%s' % string\n",
      "data = requests.get(url).text\n",
      "dom = web.Element(data)\n",
      "tbls = [t for t in dom.by_tag('table')]\n",
      "\n",
      "a = range (0, len(tbls))\n",
      "a = [x for x in a if x % 2 != 0]\n",
      "\n",
      "table = {}\n",
      "count = 0\n",
      "for i in a:\n",
      "    if i < 2:\n",
      "        x =header(i, tbls)\n",
      "\n",
      "    "
     ],
     "language": "python",
     "metadata": {},
     "outputs": [],
     "prompt_number": 106
    },
    {
     "cell_type": "code",
     "collapsed": false,
     "input": [
      "\"\"\"\n",
      "Function: player_dict(num, tbls)\n",
      "\tGet the relative order of words and numbers in the entire list\n",
      "\n",
      "Parameters:\n",
      "\tfull_lst: unedited list to be sorted\n",
      "\n",
      "Returns:\n",
      "\trelOrder: list with boolean values, True if entry is a number, else false\n",
      "\"\"\"\n",
      "def player_dict(num, tbls):\n",
      "    \n",
      "    table_dict = {}\n",
      "    table_dict['header'] = header(num, tbls)\n",
      "    table_dict['content'] = rows_values(num, tbls)\n",
      "    \n",
      "    return table_dict   "
     ],
     "language": "python",
     "metadata": {},
     "outputs": [],
     "prompt_number": 18
    },
    {
     "cell_type": "code",
     "collapsed": false,
     "input": [
      "def player_final(first_name, last_name):\n",
      "    \n",
      "    string = first_name + '%20' + last_name\n",
      "    url = 'http://hoopdata.com/player.aspx?name=%s' % string\n",
      "    data = requests.get(url).text\n",
      "    dom = web.Element(data)\n",
      "    tbls = [t for t in dom.by_tag('table')]\n",
      "    \n",
      "    a = range (0, len(tbls))\n",
      "    a = [x for x in a if x % 2 != 0]\n",
      "    \n",
      "    table = {}\n",
      "    count = 1\n",
      "    for i in a:\n",
      "        table[count] = player_dict(i, tbls)\n",
      "        count = count + 1\n",
      "    return table   "
     ],
     "language": "python",
     "metadata": {},
     "outputs": [],
     "prompt_number": 19
    },
    {
     "cell_type": "code",
     "collapsed": false,
     "input": [
      "first_name = 'Chris'\n",
      "last_name = 'Paul'"
     ],
     "language": "python",
     "metadata": {},
     "outputs": [],
     "prompt_number": 20
    },
    {
     "cell_type": "code",
     "collapsed": false,
     "input": [
      "final = player_final(first_name, last_name)"
     ],
     "language": "python",
     "metadata": {},
     "outputs": [],
     "prompt_number": 21
    },
    {
     "cell_type": "code",
     "collapsed": false,
     "input": [],
     "language": "python",
     "metadata": {},
     "outputs": [],
     "prompt_number": 7
    },
    {
     "cell_type": "code",
     "collapsed": false,
     "input": [
      "url = 'http://hoopdata.com/advancedstats.aspx'\n",
      "data = requests.get(url).text\n",
      "dom = web.Element(data) "
     ],
     "language": "python",
     "metadata": {},
     "outputs": [],
     "prompt_number": 8
    },
    {
     "cell_type": "code",
     "collapsed": false,
     "input": [
      "tables = dom.by_class('MyGridView')\n",
      "tables.pop(0)"
     ],
     "language": "python",
     "metadata": {},
     "outputs": [
      {
       "metadata": {},
       "output_type": "pyout",
       "prompt_number": 9,
       "text": [
        "Element(tag='table')"
       ]
      }
     ],
     "prompt_number": 9
    },
    {
     "cell_type": "code",
     "collapsed": false,
     "input": [],
     "language": "python",
     "metadata": {},
     "outputs": [],
     "prompt_number": 9
    },
    {
     "cell_type": "code",
     "collapsed": false,
     "input": [
      "for a in t:\n",
      "    print a.attributes\n"
     ],
     "language": "python",
     "metadata": {},
     "outputs": [
      {
       "ename": "NameError",
       "evalue": "name 't' is not defined",
       "output_type": "pyerr",
       "traceback": [
        "\u001b[0;31m---------------------------------------------------------------------------\u001b[0m\n\u001b[0;31mNameError\u001b[0m                                 Traceback (most recent call last)",
        "\u001b[0;32m<ipython-input-10-9779bb43e111>\u001b[0m in \u001b[0;36m<module>\u001b[0;34m()\u001b[0m\n\u001b[0;32m----> 1\u001b[0;31m \u001b[0;32mfor\u001b[0m \u001b[0ma\u001b[0m \u001b[0;32min\u001b[0m \u001b[0mt\u001b[0m\u001b[0;34m:\u001b[0m\u001b[0;34m\u001b[0m\u001b[0m\n\u001b[0m\u001b[1;32m      2\u001b[0m     \u001b[0;32mprint\u001b[0m \u001b[0ma\u001b[0m\u001b[0;34m.\u001b[0m\u001b[0mattributes\u001b[0m\u001b[0;34m\u001b[0m\u001b[0m\n",
        "\u001b[0;31mNameError\u001b[0m: name 't' is not defined"
       ]
      }
     ],
     "prompt_number": 10
    },
    {
     "cell_type": "code",
     "collapsed": false,
     "input": [],
     "language": "python",
     "metadata": {},
     "outputs": [],
     "prompt_number": 160
    },
    {
     "cell_type": "code",
     "collapsed": false,
     "input": [],
     "language": "python",
     "metadata": {},
     "outputs": [],
     "prompt_number": 160
    },
    {
     "cell_type": "code",
     "collapsed": false,
     "input": [],
     "language": "python",
     "metadata": {},
     "outputs": []
    }
   ],
   "metadata": {}
  }
 ]
}